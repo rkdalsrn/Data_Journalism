{
 "cells": [
  {
   "cell_type": "markdown",
   "metadata": {},
   "source": [
    "# Assignment \\#2-1: Python Crash Course 1\n",
    "\n",
    "* 파일 이름: A2-1-학번-이름(영어로).iphynb 형식으로 (예: A2-1-13403-999-jiyoon.iphynb)"
   ]
  },
  {
   "cell_type": "markdown",
   "metadata": {},
   "source": [
    "#1. 다음의 프로그램을 작성하시오. (input()함수를 사용할 것)\n",
    "\n",
    "> 안녕하세요. 성을 입력해 주세요:  (성 입력의 예: 홍)\n",
    ">\n",
    "> 이름을 입력해 주세요:  (이름 입력의 예: 길동)\n",
    ">\n",
    "> 홍길동님의 나이는 몇살인가요: (나이 입력의 예: 30)\n",
    ">\n",
    "> 홍길동님은 지금까지 모두 ** xxxx **초를 살아왔군요.  \n",
    ">\n",
    "> 지금까지 이용해 주셔서 감사합니다. 홍길동님.\n",
    "\n",
    "(참고) 입력받은 나이는 숫자(int)가 아니라 문자열(string)임. 윤년 계산 등은 무시할 것."
   ]
  },
  {
   "cell_type": "code",
   "execution_count": 1,
   "metadata": {},
   "outputs": [
    {
     "name": "stdout",
     "output_type": "stream",
     "text": [
      "안녕하세요. 성을 입력해 주세요: (성 입력의 예: 홍) 강\n",
      "이름을 입력해 주세요: (이름 입력의 예: 길동) 민구\n",
      "강민구님의 나이는 몇살인가요: (나이 입력의 예: 30) 21\n",
      "강민구님은 지금까지 모두 **662256000**초를 살아왔군요.\n",
      "지금까지 이용해 주셔서 감사합니다. 강민구님.\n"
     ]
    }
   ],
   "source": [
    "# 여기에 코드를 입력하세요.\n",
    "last_name = input(\"안녕하세요. 성을 입력해 주세요: (성 입력의 예: 홍) \")\n",
    "first_name = input(\"이름을 입력해 주세요: (이름 입력의 예: 길동) \")\n",
    "age = input(last_name + first_name + \"님의 나이는 몇살인가요: (나이 입력의 예: 30) \")\n",
    "second = int(age) * 365 * 24 * 60 * 60\n",
    "print(last_name + first_name + \"님은 지금까지 모두 **\" + str(second) + \"**초를 살아왔군요.\")\n",
    "print(\"지금까지 이용해 주셔서 감사합니다. \" + last_name + first_name + \"님.\")"
   ]
  },
  {
   "cell_type": "markdown",
   "metadata": {},
   "source": [
    "#2. 다음을 계산하는 메소드를 만들고 계산 예를 적으시오.\n",
    "\n",
    "> 섭씨 <-> 화씨 변환 \n",
    "\n",
    "> 인치 <-> 센치 변환\n",
    "\n",
    "출력의 예: \n",
    "\n",
    "> 섭씨 oo도는 화씨로 oo도 입니다.\n",
    "\n",
    "> oo인치는 oo센티미터 입니다.\n",
    "\n",
    "(참고) round() 함수를 사용해 보자: round() 함수는 지정한 소수점에서 반올림하여 결과를 표시한다.\n",
    "\n",
    "> round(3.954839283, 3) # 소수점 3째 자리에서 반올림\n",
    "\n",
    "> 3.955 "
   ]
  },
  {
   "cell_type": "code",
   "execution_count": 21,
   "metadata": {},
   "outputs": [
    {
     "name": "stdout",
     "output_type": "stream",
     "text": [
      "섭씨 36도는 화씨로 96.8도 입니다.\n",
      "5 인치는 12.7센티미터 입니다.\n"
     ]
    }
   ],
   "source": [
    "# 여기에 코드를 입력하세요.\n",
    "def temper_cen(centigrade):\n",
    "    fahrenheit = centigrade * 9 / 5 + 32\n",
    "    return fahrenheit\n",
    "    \n",
    "def temper_fah(fahrenheit):\n",
    "    centigrade = 5*(fahrenheit-32)/9\n",
    "    return centigrage\n",
    "\n",
    "def length_inch(inch):\n",
    "    centi = round(inch * 2.54, 2)\n",
    "    return centi\n",
    "\n",
    "def length_centi(centi):\n",
    "    inch = round(centi * 0.393701, 2)\n",
    "    return inch\n",
    "\n",
    "centigrade = 36\n",
    "inch = 5\n",
    "\n",
    "print(\"섭씨 \" + str(centigrade) + \"도는 화씨로 \" + str(temper_cen(centigrade)) + \"도 입니다.\")\n",
    "print(str(inch) + \" 인치는 \" + str(length_inch(inch)) + \"센티미터 입니다.\")"
   ]
  },
  {
   "cell_type": "markdown",
   "metadata": {},
   "source": [
    "#3. 다음을 출력하는 프로그램을 작성하시오.\n",
    "\n",
    "> 오늘은 oooo년 o월 o일, 크리스마스까지는 oo일 이나 남았네. 이 수업도 이제 oo번 밖에 안남았구나!"
   ]
  },
  {
   "cell_type": "code",
   "execution_count": 2,
   "metadata": {
    "scrolled": true
   },
   "outputs": [
    {
     "name": "stdout",
     "output_type": "stream",
     "text": [
      "오늘은 2019년 9월 24일, 크리스마스까지는 92일 이나 남았네. 이 수업도 이제 11번 밖에 안남았구나!\n"
     ]
    }
   ],
   "source": [
    "# 여기에 코드를 입력하세요.\n",
    "from datetime import datetime\n",
    "dt = datetime.now()\n",
    "dt_christmas = dt.replace(month = 12, day = 25, hour = 0, minute = 0, second = 0)\n",
    "dt_last = dt.replace(month = 12, day = 16, hour = 0, minute = 0, second = 0)\n",
    "delta_christ = (dt_christmas - dt).days + 1\n",
    "delta_last = (dt_last - dt).days + 1\n",
    "delta_last = int(delta_last / 7)\n",
    "print(\"오늘은 \" + str(dt.year) + \"년 \" + str(dt.month) + \"월 \" + str(dt.day) + \"일, 크리스마스까지는 \" + str(delta_christ) + \"일 이나 남았네. 이 수업도 이제 \" + str(delta_last) + \"번 밖에 안남았구나!\")"
   ]
  },
  {
   "cell_type": "code",
   "execution_count": null,
   "metadata": {},
   "outputs": [],
   "source": []
  }
 ],
 "metadata": {
  "kernelspec": {
   "display_name": "Python 3",
   "language": "python",
   "name": "python3"
  },
  "language_info": {
   "codemirror_mode": {
    "name": "ipython",
    "version": 3
   },
   "file_extension": ".py",
   "mimetype": "text/x-python",
   "name": "python",
   "nbconvert_exporter": "python",
   "pygments_lexer": "ipython3",
   "version": "3.7.3"
  }
 },
 "nbformat": 4,
 "nbformat_minor": 1
}
