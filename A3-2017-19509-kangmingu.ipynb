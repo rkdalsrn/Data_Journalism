{
 "cells": [
  {
   "cell_type": "markdown",
   "metadata": {},
   "source": [
    "# Assignment 3 - Data Cleaning and Analysis\n",
    "\n",
    "이번 과제에서 학생들은 주어진 데이터를 clean up 하고 분석하는 연습을 하게 될 것이다.\n",
    "\n",
    "두개의 지정된 질문에 대한 답을 하여야 하고 세개의 질문을 스스로 만들어 코드와 함께 결과를 제시한다.\n",
    "\n",
    "* 파일 이름: A3-학번-이름(영어로).iphynb 형식으로 (예: A3-13403-999-jiyoon.iphynb)"
   ]
  },
  {
   "cell_type": "markdown",
   "metadata": {},
   "source": [
    "### Dataset\n",
    "\n",
    "타이타닉호의 모든 승객, 승무원의 정보와 생존자, 사망자 정보는 다음의 웹사이트에 잘 정리되어있다.\n",
    "* http://biostat.mc.vanderbilt.edu/wiki/pub/Main/DataSets/titanic.html\n",
    "\n",
    "본 과제에서 제시하는 데이터는 해당 웹사이트의 정보를 담고 있다. 다음의 데이터를 다운로드하여 분석하고 아래의 질문에 답하시오.\n",
    "* 데이터: http://biostat.mc.vanderbilt.edu/wiki/pub/Main/DataSets/titanic3.xls\n",
    "* 데이터 설명: http://biostat.mc.vanderbilt.edu/wiki/pub/Main/DataSets/titanic.html\n",
    "* 데이터 변수 설명: http://biostat.mc.vanderbilt.edu/wiki/pub/Main/DataSets/titanic3info.txt"
   ]
  },
  {
   "cell_type": "markdown",
   "metadata": {},
   "source": [
    "### Q1: 생존자와 사망자의 평균 나이를 남녀를 구분하여 계산하시오."
   ]
  },
  {
   "cell_type": "code",
   "execution_count": 1,
   "metadata": {
    "scrolled": true
   },
   "outputs": [
    {
     "name": "stdout",
     "output_type": "stream",
     "text": [
      "생존자 중 여성의 평균 나이: 30.0\n",
      "생존자 중 남성의 평균 나이: 27.0\n",
      "사망자 중 여성의 평균 나이: 25.0\n",
      "사망자 중 남성의 평균 나이: 32.0\n"
     ]
    }
   ],
   "source": [
    "import pandas as pd\n",
    "import numpy as np\n",
    "data = pd.read_excel(open('titanic3.xls','rb'))\n",
    "data_a_f = data[(data.survived == 1) & (data.sex == 'female')]\n",
    "data_a_m = data[(data.survived == 1) & (data.sex == 'male')]\n",
    "data_d_f = data[(data.survived == 0) & (data.sex == 'female')]\n",
    "data_d_m = data[(data.survived == 0) & (data.sex == 'male')]\n",
    "print(\"생존자 중 여성의 평균 나이: \" + str(round(data_a_f.describe()['age']['mean'], 0)))\n",
    "print(\"생존자 중 남성의 평균 나이: \" + str(round(data_a_m.describe()['age']['mean'], 0)))\n",
    "print(\"사망자 중 여성의 평균 나이: \" + str(round(data_d_f.describe()['age']['mean'], 0)))\n",
    "print(\"사망자 중 남성의 평균 나이: \" + str(round(data_d_m.describe()['age']['mean'], 0)))"
   ]
  },
  {
   "cell_type": "markdown",
   "metadata": {},
   "source": [
    "### Q2: 생존자의 평균 티켓 가격과 사망자의 평균 티켓 가격을 구하고 비교하시오."
   ]
  },
  {
   "cell_type": "code",
   "execution_count": 48,
   "metadata": {},
   "outputs": [
    {
     "name": "stdout",
     "output_type": "stream",
     "text": [
      "생존자의 평균 티켓 가격: 49.361\n",
      "사망자의 평균 티켓 가격: 23.354\n",
      "생존자의 평균 티켓 가격이 사망자의 평균 티켓 가격보다 높습니다.\n"
     ]
    }
   ],
   "source": [
    "import pandas as pd\n",
    "import numpy as np\n",
    "data = pd.read_excel(open('titanic3.xls','rb'))\n",
    "data_a = data[(data.survived == 1)]\n",
    "data_d = data[(data.survived == 0)]\n",
    "m_a = round(data_a.describe()['fare']['mean'], 3)\n",
    "m_d = round(data_d.describe()['fare']['mean'], 3)\n",
    "print(\"생존자의 평균 티켓 가격: \" + str(m_a))\n",
    "print(\"사망자의 평균 티켓 가격: \" + str(m_d))\n",
    "if m_a > m_d:\n",
    "    print(\"생존자의 평균 티켓 가격이 사망자의 평균 티켓 가격보다 높습니다.\")\n",
    "else:\n",
    "    print(\"사망자의 평균 티켓 가격이 생존자의 평균 티켓 가격보다 높습니다.\")"
   ]
  },
  {
   "cell_type": "markdown",
   "metadata": {},
   "source": [
    "### Q3: Passenger Class에 따른 평균 나이를 계산하시오."
   ]
  },
  {
   "cell_type": "code",
   "execution_count": 49,
   "metadata": {},
   "outputs": [
    {
     "name": "stdout",
     "output_type": "stream",
     "text": [
      "1st class 탑승자의 평균 나이: 39.0\n",
      "2nd class 탑승자의 평균 나이: 30.0\n",
      "3rd class 탑승자의 평균 나이: 25.0\n"
     ]
    }
   ],
   "source": [
    "import pandas as pd\n",
    "import numpy as np\n",
    "data = pd.read_excel(open('titanic3.xls','rb'))\n",
    "data_pclass1 = data[(data.pclass == 1)]\n",
    "data_pclass2 = data[(data.pclass == 2)]\n",
    "data_pclass3 = data[(data.pclass == 3)]\n",
    "print(\"1st class 탑승자의 평균 나이: \" + str(round(data_pclass1.describe()['age']['mean'], 0)))\n",
    "print(\"2nd class 탑승자의 평균 나이: \" + str(round(data_pclass2.describe()['age']['mean'], 0)))\n",
    "print(\"3rd class 탑승자의 평균 나이: \" + str(round(data_pclass3.describe()['age']['mean'], 0)))"
   ]
  },
  {
   "cell_type": "markdown",
   "metadata": {},
   "source": [
    "### Q4: 생존자의 나이를 히스토그램으로 나타내시오."
   ]
  },
  {
   "cell_type": "code",
   "execution_count": 50,
   "metadata": {},
   "outputs": [
    {
     "data": {
      "image/png": "[encoded data removed]",
      "text/plain": [
       "<Figure size 432x288 with 1 Axes>"
      ]
     },
     "metadata": {
      "needs_background": "light"
     },
     "output_type": "display_data"
    }
   ],
   "source": [
    "import pandas as pd\n",
    "import numpy as np\n",
    "import matplotlib.pyplot as plt\n",
    "data = pd.read_excel(open('titanic3.xls','rb'))\n",
    "data_a = data[(data.survived == 1)]\n",
    "_ = plt.hist(data_a.age, bins='auto')\n",
    "plt.title(\"Histogram of Survived Passenger\")\n",
    "plt.show()"
   ]
  },
  {
   "cell_type": "markdown",
   "metadata": {},
   "source": [
    "### Q5: 1st Class 탑승자의 나이를 히스토그램으로 나타내시오."
   ]
  },
  {
   "cell_type": "code",
   "execution_count": 55,
   "metadata": {},
   "outputs": [
    {
     "data": {
      "image/png": "[encoded data removed]",
      "text/plain": [
       "<Figure size 432x288 with 1 Axes>"
      ]
     },
     "metadata": {
      "needs_background": "light"
     },
     "output_type": "display_data"
    }
   ],
   "source": [
    "import pandas as pd\n",
    "import numpy as np\n",
    "import matplotlib.pyplot as plt\n",
    "data = pd.read_excel(open('titanic3.xls','rb'))\n",
    "data_1st = data[(data.pclass == 1)]\n",
    "_ = plt.hist(data_1st.age, bins='auto')\n",
    "plt.title(\"Histogram of 1st Class Passenger\")\n",
    "plt.show()"
   ]
  },
  {
   "cell_type": "code",
   "execution_count": null,
   "metadata": {},
   "outputs": [],
   "source": []
  }
 ],
 "metadata": {
  "kernelspec": {
   "display_name": "Python 3",
   "language": "python",
   "name": "python3"
  },
  "language_info": {
   "codemirror_mode": {
    "name": "ipython",
    "version": 3
   },
   "file_extension": ".py",
   "mimetype": "text/x-python",
   "name": "python",
   "nbconvert_exporter": "python",
   "pygments_lexer": "ipython3",
   "version": "3.6.2"
  }
 },
 "nbformat": 4,
 "nbformat_minor": 1
}
